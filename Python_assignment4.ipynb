{
 "cells": [
  {
   "cell_type": "markdown",
   "metadata": {},
   "source": [
    "# Assignment 4\n",
    "\n",
    "## 1.1 Write a Python Program(with class concepts) to find the area of the triangle using the below formula.\n",
    "\n",
    "### area = (s*(s-a)*(s-b)*(s-c)) ** 0.5\n",
    "\n",
    "### Function to take the length of the sides of triangle from user should be defined in the parent class and function to calculate the area should be defined in subclass."
   ]
  },
  {
   "cell_type": "code",
   "execution_count": 1,
   "metadata": {},
   "outputs": [],
   "source": [
    "class Triangle:\n",
    "    def __init__(self):\n",
    "        self.a = float(input(\"Enter side a: \"))\n",
    "        self.b = float(input(\"Enter side b: \"))\n",
    "        self.c = float(input(\"Enter side c: \"))"
   ]
  },
  {
   "cell_type": "code",
   "execution_count": 2,
   "metadata": {},
   "outputs": [],
   "source": [
    "class Area(Triangle):\n",
    "    def area(self):\n",
    "        s = (self.a + self.b + self.c) / 2\n",
    "        area = (s * (s - self.a)*(s - self.b)*(s - self.c)) ** 0.5\n",
    "        print(f\"Area of traingle is {area:.3f} cm\\u00b2\")"
   ]
  },
  {
   "cell_type": "code",
   "execution_count": 3,
   "metadata": {},
   "outputs": [
    {
     "name": "stdout",
     "output_type": "stream",
     "text": [
      "Enter side a: 6\n",
      "Enter side b: 7\n",
      "Enter side c: 8\n",
      "Area of traingle is 20.333 cm²\n"
     ]
    }
   ],
   "source": [
    "a = Area()\n",
    "a.area()"
   ]
  },
  {
   "cell_type": "markdown",
   "metadata": {},
   "source": [
    "## 1.2 Write a function filter_long_words() that takes a list of words and an integer n and returns the list of words that are longer than n."
   ]
  },
  {
   "cell_type": "code",
   "execution_count": 4,
   "metadata": {},
   "outputs": [],
   "source": [
    "def filter_long_words(words, n):\n",
    "    l = list()\n",
    "    for i in words:\n",
    "        if len(i) > n:\n",
    "            l.append(i)\n",
    "    print(\"Longest words are:\", l)"
   ]
  },
  {
   "cell_type": "code",
   "execution_count": 6,
   "metadata": {},
   "outputs": [
    {
     "name": "stdout",
     "output_type": "stream",
     "text": [
      "Longest words are: ['gaurav ganguly', 'ganguly', 'data science']\n"
     ]
    }
   ],
   "source": [
    "lst = [\"hello\", \"world\", \"gaurav ganguly\", \"words\", \"ganguly\", \"data science\"]\n",
    "filter_long_words(lst, 5)"
   ]
  },
  {
   "cell_type": "markdown",
   "metadata": {},
   "source": [
    "## 2.1 Write a Python program using function concept that maps list of words into a list of integers representing the lengths of the corresponding words.\n",
    "\n",
    "### Hint: If a list [ ab,cde,erty] is passed on to the python function output should come as [2,3,4]\n",
    "### Here 2,3 and 4 are the lengths of the words in the list."
   ]
  },
  {
   "cell_type": "code",
   "execution_count": 8,
   "metadata": {},
   "outputs": [
    {
     "data": {
      "text/plain": [
       "[2, 3, 4]"
      ]
     },
     "execution_count": 8,
     "metadata": {},
     "output_type": "execute_result"
    }
   ],
   "source": [
    "def word_len(words):\n",
    "    return len(words)\n",
    "\n",
    "l = ['ab', 'cde', 'erty']\n",
    "result = map(word_len, l)\n",
    "list(result)"
   ]
  },
  {
   "cell_type": "markdown",
   "metadata": {},
   "source": [
    "## 2.2 Write a Python function which takes a character (i.e. a string of length 1) and returns True if it is a vowel, False otherwise."
   ]
  },
  {
   "cell_type": "code",
   "execution_count": 9,
   "metadata": {},
   "outputs": [
    {
     "name": "stdout",
     "output_type": "stream",
     "text": [
      "Input your character i\n"
     ]
    },
    {
     "data": {
      "text/plain": [
       "True"
      ]
     },
     "execution_count": 9,
     "metadata": {},
     "output_type": "execute_result"
    }
   ],
   "source": [
    "def vowel_check(char):\n",
    "    if char == \"a\" or char == \"e\" or char == \"i\" or char == \"o\" or char == \"u\":\n",
    "        return True\n",
    "    else:\n",
    "        return False\n",
    "vowel_check(input(\"Input your character \"))"
   ]
  },
  {
   "cell_type": "code",
   "execution_count": null,
   "metadata": {},
   "outputs": [],
   "source": []
  }
 ],
 "metadata": {
  "kernelspec": {
   "display_name": "Python 3",
   "language": "python",
   "name": "python3"
  },
  "language_info": {
   "codemirror_mode": {
    "name": "ipython",
    "version": 3
   },
   "file_extension": ".py",
   "mimetype": "text/x-python",
   "name": "python",
   "nbconvert_exporter": "python",
   "pygments_lexer": "ipython3",
   "version": "3.8.5"
  }
 },
 "nbformat": 4,
 "nbformat_minor": 4
}
